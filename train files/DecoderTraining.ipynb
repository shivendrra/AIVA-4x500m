{
  "nbformat": 4,
  "nbformat_minor": 0,
  "metadata": {
    "colab": {
      "provenance": [],
      "machine_shape": "hm",
      "gpuType": "T4",
      "authorship_tag": "ABX9TyMtbBJm1BxZRqg+8daBbFPt",
      "include_colab_link": true
    },
    "kernelspec": {
      "name": "python3",
      "display_name": "Python 3"
    },
    "language_info": {
      "name": "python"
    },
    "accelerator": "GPU"
  },
  "cells": [
    {
      "cell_type": "markdown",
      "metadata": {
        "id": "view-in-github",
        "colab_type": "text"
      },
      "source": [
        "<a href=\"https://colab.research.google.com/github/shivendrra/AIVA-4x500m/blob/main/train%20files/DecoderTraining.ipynb\" target=\"_parent\"><img src=\"https://colab.research.google.com/assets/colab-badge.svg\" alt=\"Open In Colab\"/></a>"
      ]
    },
    {
      "cell_type": "code",
      "source": [
        "gpu_info = !nvidia-smi\n",
        "gpu_info = '\\n'.join(gpu_info)\n",
        "if gpu_info.find('failed') >= 0:\n",
        "  print('Not connected to a GPU')\n",
        "else:\n",
        "  print(gpu_info)"
      ],
      "metadata": {
        "id": "Y9yQ9igl3gIx"
      },
      "execution_count": null,
      "outputs": []
    },
    {
      "cell_type": "code",
      "execution_count": 1,
      "metadata": {
        "colab": {
          "base_uri": "https://localhost:8080/"
        },
        "id": "o_yTgSRnEl31",
        "outputId": "6e8ff0e6-333d-44fc-d9f6-c34ecc3f959e"
      },
      "outputs": [
        {
          "output_type": "stream",
          "name": "stdout",
          "text": [
            "Mounted at /content/drive\n"
          ]
        }
      ],
      "source": [
        "from google.colab import drive\n",
        "drive.mount('/content/drive')"
      ]
    },
    {
      "cell_type": "code",
      "source": [
        "!pip install tiktoken"
      ],
      "metadata": {
        "id": "V6rmPZenE4Rs"
      },
      "execution_count": null,
      "outputs": []
    },
    {
      "cell_type": "code",
      "source": [
        "# data for model\n",
        "with open('/content/drive/MyDrive/training data/consolidated_300m.txt', 'r', encoding='utf-8') as file:\n",
        "  input_data = file.read()\n",
        "\n",
        "print(f\"{(len(input_data)/1e9):.2f} billion words\")"
      ],
      "metadata": {
        "colab": {
          "base_uri": "https://localhost:8080/"
        },
        "id": "GrkRK6nEE8OQ",
        "outputId": "fcde11eb-8199-4230-8cb2-081e342b688e"
      },
      "execution_count": 3,
      "outputs": [
        {
          "output_type": "stream",
          "name": "stdout",
          "text": [
            "1.98 billion words\n"
          ]
        }
      ]
    },
    {
      "cell_type": "code",
      "source": [
        "import tiktoken\n",
        "tokenizer = tiktoken.get_encoding(\"gpt2\")\n",
        "\n",
        "print(f\"vocab size: {tokenizer.n_vocab}\")"
      ],
      "metadata": {
        "colab": {
          "base_uri": "https://localhost:8080/"
        },
        "id": "h2ZcstYbA9YD",
        "outputId": "590af092-70ab-4ee3-bd73-cbc94a45c56f"
      },
      "execution_count": 4,
      "outputs": [
        {
          "output_type": "stream",
          "name": "stdout",
          "text": [
            "vocab size: 50257\n"
          ]
        }
      ]
    },
    {
      "cell_type": "code",
      "source": [
        "import torch\n",
        "\n",
        "# Convert to tensors\n",
        "n = int(0.9*len(input_data)) # first 90% will be train, rest val\n",
        "train_data = torch.tensor(tokenizer.encode(input_data[:n]), dtype=torch.long)\n",
        "val_data = torch.tensor(tokenizer.encode(input_data[n:]), dtype=torch.long)\n",
        "\n",
        "del input_data, n\n",
        "print(f\"total tokens: {(len(train_data)/1e6 + len(val_data)/1e6):.0f} million\")\n",
        "print(f\"train data {(len(train_data) / 1e6):.0f} million\\nvalidation data {(len(val_data) / 1e6):.0f} million\")\n",
        "print(f\"train data = {train_data[:10]}\\nval data = {val_data[:10]}\")"
      ],
      "metadata": {
        "id": "mhCXNRpTE-wC",
        "colab": {
          "base_uri": "https://localhost:8080/"
        },
        "outputId": "cf23fb2c-8074-460c-dcf0-c59f7db5d23c"
      },
      "execution_count": 5,
      "outputs": [
        {
          "output_type": "stream",
          "name": "stdout",
          "text": [
            "total tokens: 401 million\n",
            "train data 362 million\n",
            "validation data 39 million\n",
            "train data = tensor([ 5239,   197, 16963,   457,   197,  5239,    62, 30001,    62, 13664])\n",
            "val data = tensor([  312,    11, 13538,  2215, 37604, 14443,    11,   262, 17435,   286])\n"
          ]
        }
      ]
    },
    {
      "cell_type": "code",
      "source": [
        "# hyperparameters\n",
        "batch_size = 10\n",
        "block_size = 256\n",
        "max_iters = 5000\n",
        "eval_interval = 100\n",
        "learning_rate = 3e-5\n",
        "eval_iters = 200\n",
        "d_model = 512\n",
        "n_head = 16\n",
        "n_layers = 10\n",
        "dropout = 0.2\n",
        "norm_eps = 1e-5"
      ],
      "metadata": {
        "id": "uungYAIUFB5o"
      },
      "execution_count": 6,
      "outputs": []
    },
    {
      "cell_type": "code",
      "source": [
        "import torch.nn as nn\n",
        "from torch.nn import functional as F\n",
        "device = 'cuda' if torch.cuda.is_available() else 'cpu'\n",
        "\n",
        "class RMSNorm(nn.Module):\n",
        "  def __init__(self, dim: int, eps: float = 1e-6):\n",
        "    super().__init__()\n",
        "    self.eps = eps\n",
        "    self.weight = nn.Parameter(torch.ones(dim))\n",
        "\n",
        "  def _norm(self, x):\n",
        "    return x * torch.rsqrt(x.pow(2).mean(-1, keepdim=True) + self.eps)\n",
        "\n",
        "  def forward(self, x):\n",
        "    output = self._norm(x.float()).type_as(x)\n",
        "    return output * self.weight\n",
        "\n",
        "class SingleHead(nn.Module):\n",
        "  def __init__(self,\n",
        "      head_size: int,\n",
        "      d_model: int,\n",
        "      block_size: int,\n",
        "      dropout: float):\n",
        "    super().__init__()\n",
        "    self.key = nn.Linear(d_model, head_size, bias=True)\n",
        "    self.query = nn.Linear(d_model, head_size, bias=True)\n",
        "    self.value = nn.Linear(d_model, head_size, bias=True)\n",
        "    self.dropout = nn.Dropout(dropout)\n",
        "    self.rel_pos_embd = nn.Parameter(torch.randn(block_size, block_size, head_size))\n",
        "    self.register_buffer('tril', torch.tril(torch.ones(block_size, block_size)))\n",
        "\n",
        "  def forward(self, x: torch.Tensor, mask: bool= False):\n",
        "    B, T, C = x.shape\n",
        "    key = self.key(x)\n",
        "    query = self.query(x)\n",
        "    scores = torch.matmul(query ,key.transpose(-2, -1)) / (key.shape[-1]**-0.5)\n",
        "    rel_pos_scores = torch.einsum('btc,tvc->btv', query, self.rel_pos_embd[:T, :T])\n",
        "    scores = scores + rel_pos_scores\n",
        "\n",
        "    if mask is True:\n",
        "      scores = scores.masked_fill(self.tril[:T, :T] == 0, float('-inf'))\n",
        "\n",
        "    att_mat = F.softmax(scores, dim=-1)\n",
        "    att_mat = self.dropout(att_mat)\n",
        "    value = self.value(x)\n",
        "    output = torch.matmul(att_mat, value)\n",
        "\n",
        "    return output\n",
        "\n",
        "class MultiHeadAttention(nn.Module):\n",
        "  def __init__(self,\n",
        "      d_model: int,\n",
        "      block_size: int,\n",
        "      n_head : int,\n",
        "      dropout: float):\n",
        "    head_size = d_model // n_head\n",
        "    super().__init__()\n",
        "    self.heads = nn.ModuleList([SingleHead(d_model=d_model, dropout=dropout, block_size=block_size, head_size=head_size) for _ in range(n_head)])\n",
        "    self.projection = nn.Linear(head_size * n_head, d_model)\n",
        "    self.dropout = nn.Dropout(dropout)\n",
        "\n",
        "  def forward(self, x: torch.Tensor, mask: bool):\n",
        "    out = torch.cat([h(x, mask) for h in self.heads], dim=-1)\n",
        "    out = self.dropout(self.projection(out))\n",
        "\n",
        "    del x\n",
        "    return out\n",
        "\n",
        "class FeedForward(nn.Module):\n",
        "  def __init__(self, d_model, dropout):\n",
        "    super().__init__()\n",
        "    self.net = nn.Sequential(\n",
        "      nn.Linear(d_model, 5 * d_model),\n",
        "      nn.GELU(),\n",
        "      nn.Linear(5 * d_model, d_model),\n",
        "      nn.Dropout(dropout),\n",
        "      )\n",
        "\n",
        "  def forward(self, x: torch.Tensor):\n",
        "    return self.net(x)\n",
        "\n",
        "class DecoderBlock(nn.Module):\n",
        "  def __init__(self, d_model: int,\n",
        "        block_size: int,\n",
        "        n_head: int,\n",
        "        norm_eps: float,\n",
        "        dropout: float):\n",
        "    super().__init__()\n",
        "    self.self_att = MultiHeadAttention(n_head=n_head, d_model=d_model, dropout=dropout, block_size=block_size)\n",
        "    self.ffwd = FeedForward(d_model, dropout)\n",
        "    self.dropout = nn.Dropout(dropout)\n",
        "    self.norm = RMSNorm(d_model, eps=norm_eps)\n",
        "\n",
        "  def forward(self, x: torch.Tensor):\n",
        "    x_out = self.self_att(self.norm(x), mask=True)\n",
        "    x_out = x + self.dropout(x_out)\n",
        "    del x\n",
        "\n",
        "    x = self.self_att(self.norm(x_out), mask=False)\n",
        "    x = x_out + self.dropout(x)\n",
        "    del x_out\n",
        "\n",
        "    x_out = self.ffwd(self.norm(x))\n",
        "    x_out = x + self.dropout(x_out)\n",
        "    del x\n",
        "\n",
        "    return x_out\n",
        "\n",
        "class Transformer(nn.Module):\n",
        "  def __init__(self, vocab_size: int):\n",
        "    super().__init__()\n",
        "    self.block_size = block_size\n",
        "    self.token_embeddings = nn.Embedding(vocab_size, d_model)\n",
        "    self.decoder = nn.Sequential(*[DecoderBlock(n_head=n_head, d_model=d_model, dropout=dropout, norm_eps=norm_eps, block_size=block_size) for _ in range(n_layers)])\n",
        "    self.norm_final = RMSNorm(d_model, eps=norm_eps)\n",
        "    self.linear_final = nn.Linear(d_model, vocab_size)\n",
        "    self.dropout = nn.Dropout(dropout)\n",
        "    self.apply(self._init_weights)\n",
        "\n",
        "  def _init_weights(self, module):\n",
        "    if isinstance(module, nn.Linear):\n",
        "      torch.nn.init.normal_(module.weight, mean=0.0, std=0.02)\n",
        "      if module.bias is not None:\n",
        "        torch.nn.init.zeros_(module.bias.data)\n",
        "    elif isinstance(module, nn.Embedding):\n",
        "      torch.nn.init.normal_(module.weight, mean=0.0, std=0.02)\n",
        "\n",
        "  def forward(self, idx, targets=None):\n",
        "    B, T = idx.shape\n",
        "    x = self.token_embeddings(idx)\n",
        "    x = self.decoder(x)\n",
        "    logits = self.linear_final(self.norm_final(x))\n",
        "\n",
        "    if targets is None:\n",
        "      loss = None\n",
        "\n",
        "    else:\n",
        "      B, T, C = logits.shape\n",
        "      logits = logits.view(B*T, C)\n",
        "      targets = targets.view(B*T)\n",
        "      loss = F.cross_entropy(logits, targets)\n",
        "\n",
        "    return logits, loss\n",
        "\n",
        "  @torch.no_grad()\n",
        "  def generate(self, idx, max_new_tokens, temperature=1.0, top_k=None):\n",
        "    self.eval()\n",
        "    for _ in range(max_new_tokens):\n",
        "\n",
        "      idx_cond = idx if idx.size(1) <= self.block_size else idx[:, -self.block_size:]\n",
        "      logits, _ = self(idx_cond)\n",
        "      logits = logits[:, -1, :] / temperature\n",
        "\n",
        "      if top_k is not None:\n",
        "        v, _ = torch.topk(logits, min(top_k, logits.size(-1)))\n",
        "        logits[logits < v[:, [-1]]] = -float('Inf')\n",
        "\n",
        "      probs = F.softmax(logits, dim=-1)\n",
        "      idx_next = torch.multinomial(probs, num_samples=1)\n",
        "      idx = torch.cat((idx, idx_next), dim=1)\n",
        "\n",
        "    return idx"
      ],
      "metadata": {
        "id": "mxNnZIJbFDdS"
      },
      "execution_count": 7,
      "outputs": []
    },
    {
      "cell_type": "code",
      "source": [
        "from torch.optim.lr_scheduler import CosineAnnealingLR\n",
        "\n",
        "vocab_size = tokenizer.n_vocab\n",
        "model = Transformer(vocab_size)\n",
        "checkpoint_path = '/content/drive/MyDrive/consolidated-00.pth'\n",
        "checkpoint = torch.load(checkpoint_path)\n",
        "model.load_state_dict(checkpoint)\n",
        "m = model.to(device)\n",
        "\n",
        "# no of parameters\n",
        "n_param = sum(p.numel() for p in m.parameters())/1e6\n",
        "print(f\"{n_param:.0f} million parameters\")\n",
        "optimizer = torch.optim.AdamW(model.parameters(), lr=learning_rate)\n",
        "scheduler = CosineAnnealingLR(optimizer, T_max=max_iters)"
      ],
      "metadata": {
        "id": "rk6dFGrnTazC",
        "colab": {
          "base_uri": "https://localhost:8080/"
        },
        "outputId": "2a507bf2-2b32-4d36-a18d-7eaf8c70a323"
      },
      "execution_count": 8,
      "outputs": [
        {
          "output_type": "stream",
          "name": "stdout",
          "text": [
            "424 million parameters\n"
          ]
        }
      ]
    },
    {
      "cell_type": "code",
      "source": [
        "import torch\n",
        "start_time = timeit.default_timer()\n",
        "\n",
        "torch.manual_seed(1500)\n",
        "def get_batch(split):\n",
        "  data = train_data if split == 'train' else val_data\n",
        "  ix = torch.randint(len(data) - block_size, (batch_size,))\n",
        "  x = torch.stack([data[i:i+block_size] for i in ix])\n",
        "  y = torch.stack([data[i+1:i+block_size+1] for i in ix])\n",
        "\n",
        "  x, y = x.to(device), y.to(device)\n",
        "  return x, y\n",
        "\n",
        "@torch.no_grad()\n",
        "def estimate_loss():\n",
        "  out = {}\n",
        "  model.eval()\n",
        "  for split in ['train', 'val']:\n",
        "    losses = torch.zeros(eval_iters)\n",
        "    for k in range(eval_iters):\n",
        "      X, Y = get_batch(split)\n",
        "      logits, loss = model(X, Y)\n",
        "      losses[k] = loss.item()\n",
        "    out[split] = losses.mean()\n",
        "  model.train()\n",
        "  return out\n",
        "\n",
        "steps = []\n",
        "train_losses = []\n",
        "val_losses = []\n",
        "\n",
        "for iter in range(max_iters):\n",
        "  if iter % eval_interval == 0 or iter == max_iters - 1:\n",
        "    losses = estimate_loss()\n",
        "    print(f\"step {iter}: train loss {losses['train']:.4f}, val loss {losses['val']:.4f}\")\n",
        "\n",
        "    steps.append(iter)\n",
        "    train_losses.append(losses['train'])\n",
        "    val_losses.append(losses['val'])\n",
        "\n",
        "  xb, yb = get_batch('train')\n",
        "  logits, loss = model(xb, yb)\n",
        "  optimizer.zero_grad(set_to_none=True)\n",
        "  loss.backward()\n",
        "  torch.nn.utils.clip_grad_norm_(model.parameters(), max_norm=1.0)\n",
        "  optimizer.step()\n",
        "  scheduler.step()"
      ],
      "metadata": {
        "id": "A-MwMWaeCKFt",
        "colab": {
          "base_uri": "https://localhost:8080/"
        },
        "outputId": "26d189c5-0dd4-4f82-c574-9da7a802d57b"
      },
      "execution_count": 10,
      "outputs": [
        {
          "output_type": "stream",
          "name": "stdout",
          "text": [
            "step 0: train loss 7.0208, val loss 7.3135\n",
            "step 100: train loss 6.9859, val loss 7.2120\n",
            "step 200: train loss 7.0836, val loss 7.2903\n",
            "step 300: train loss 6.9982, val loss 7.1560\n",
            "step 400: train loss 6.8968, val loss 7.1965\n",
            "step 500: train loss 6.9171, val loss 7.0873\n",
            "step 600: train loss 6.8556, val loss 7.1136\n",
            "step 700: train loss 6.9401, val loss 7.1561\n",
            "step 800: train loss 6.8790, val loss 7.1171\n",
            "step 900: train loss 6.8426, val loss 7.0507\n",
            "step 1000: train loss 6.8229, val loss 7.1320\n",
            "step 1100: train loss 6.9025, val loss 7.0902\n",
            "step 1200: train loss 6.8389, val loss 7.0089\n",
            "step 1300: train loss 6.8475, val loss 7.0902\n",
            "step 1400: train loss 6.8030, val loss 7.1148\n",
            "step 1500: train loss 6.7900, val loss 7.0341\n",
            "step 1600: train loss 6.7818, val loss 7.0245\n",
            "step 1700: train loss 6.8508, val loss 7.0074\n",
            "step 1800: train loss 6.7315, val loss 6.9745\n",
            "step 1900: train loss 6.7733, val loss 7.0292\n",
            "step 2000: train loss 6.7494, val loss 7.0399\n",
            "step 2100: train loss 6.7506, val loss 7.0361\n",
            "step 2200: train loss 6.7301, val loss 6.9877\n",
            "step 2300: train loss 6.7587, val loss 7.0126\n",
            "step 2400: train loss 6.7650, val loss 6.9983\n",
            "step 2500: train loss 6.7385, val loss 6.9789\n",
            "step 2600: train loss 6.7387, val loss 7.0478\n",
            "step 2700: train loss 6.7767, val loss 7.0322\n",
            "step 2800: train loss 6.6673, val loss 6.9583\n",
            "step 2900: train loss 6.6306, val loss 6.9577\n",
            "step 3000: train loss 6.6118, val loss 6.9291\n",
            "step 3100: train loss 6.6407, val loss 6.8733\n",
            "step 3200: train loss 6.6399, val loss 6.8810\n",
            "step 3300: train loss 6.6309, val loss 6.8721\n",
            "step 3400: train loss 6.6530, val loss 6.9066\n",
            "step 3500: train loss 6.6210, val loss 6.8810\n",
            "step 3600: train loss 6.6309, val loss 6.8579\n",
            "step 3700: train loss 6.5833, val loss 6.8702\n",
            "step 3800: train loss 6.5928, val loss 6.8623\n",
            "step 3900: train loss 6.6448, val loss 6.8822\n",
            "step 4000: train loss 6.5717, val loss 6.8718\n",
            "step 4100: train loss 6.6341, val loss 6.8262\n",
            "step 4200: train loss 6.6044, val loss 6.8534\n",
            "step 4300: train loss 6.5817, val loss 6.8344\n",
            "step 4400: train loss 6.5980, val loss 6.8362\n",
            "step 4500: train loss 6.5725, val loss 6.8317\n",
            "step 4600: train loss 6.5886, val loss 6.8345\n",
            "step 4700: train loss 6.5632, val loss 6.8376\n",
            "step 4800: train loss 6.6088, val loss 6.8511\n",
            "step 4900: train loss 6.5795, val loss 6.8107\n",
            "step 4999: train loss 6.5629, val loss 6.8617\n"
          ]
        }
      ]
    },
    {
      "cell_type": "code",
      "source": [
        "# end_time = timeit.default_timer()\n",
        "print(f\"total parameters: {n_param:.0f} million\")\n",
        "# print(f\"trained in {((end_time - start_time)/3600):.1f}hrs\")\n",
        "print(\"final loss: \", losses)"
      ],
      "metadata": {
        "colab": {
          "base_uri": "https://localhost:8080/"
        },
        "id": "fZc1oDdC3WmA",
        "outputId": "f1f5c03a-07c3-4847-c443-8456e5665489"
      },
      "execution_count": 11,
      "outputs": [
        {
          "output_type": "stream",
          "name": "stdout",
          "text": [
            "total parameters: 424 million\n",
            "final loss:  {'train': tensor(6.5629), 'val': tensor(6.8617)}\n"
          ]
        }
      ]
    },
    {
      "cell_type": "code",
      "source": [
        "input_from_user = \"people often lie about themselves but\"\n",
        "token_input = tokenizer.encode(input_from_user)\n",
        "print(token_input)\n",
        "\n",
        "# generate from the model\n",
        "context = torch.tensor([token_input], dtype=torch.long, device=device)\n",
        "generated_output = tokenizer.decode(m.generate(context, max_new_tokens=100)[0].tolist())\n",
        "print(generated_output)"
      ],
      "metadata": {
        "colab": {
          "base_uri": "https://localhost:8080/"
        },
        "id": "kHqfrG9oETUK",
        "outputId": "96d65db6-371f-4771-b1a6-d5e9c18a7bcf"
      },
      "execution_count": 14,
      "outputs": [
        {
          "output_type": "stream",
          "name": "stdout",
          "text": [
            "[15332, 1690, 6486, 546, 2405, 475]\n",
            "people often lie about themselves but Australia35 8 datasetsfin\"   management for Egg _8 your\n",
            "Here�Are this extract\n",
            "\n",
            " knew�ery,, = him� reasoning,Share1me. directors\n",
            "\n",
            "5.\n",
            "1 $ digitalour Firstch parties� Early are Zen accesson\n",
            "6 benefits.\n",
            "\n",
            "Following\n",
            "1B CD\n",
            "\n",
            "A\n",
            "\n",
            "2\n",
            "5. Purposezingakers\n",
            "   $  useiculture New||J.\n",
            "IVyard6\n",
            "Iwhel\".\n",
            "Ref To\n"
          ]
        }
      ]
    },
    {
      "cell_type": "code",
      "source": [
        "model_save_name = f'consolidated-01.pth'\n",
        "path = f\"/content/drive/MyDrive/{model_save_name}\"\n",
        "torch.save(model.state_dict(), path)\n",
        "\n",
        "# saving safe-tensors\n",
        "from safetensors.torch import save_file\n",
        "\n",
        "model_save_name = f'consolidated-01.safetensors'\n",
        "path = f\"/content/drive/MyDrive/{model_save_name}\"\n",
        "save_file(model.state_dict(), path)"
      ],
      "metadata": {
        "id": "S1dGX2_PFX9E"
      },
      "execution_count": 15,
      "outputs": []
    },
    {
      "cell_type": "code",
      "source": [
        "import matplotlib.pyplot as plt\n",
        "\n",
        "plt.figure(figsize=(12, 6))\n",
        "plt.plot(steps, train_losses, label='Train Loss')\n",
        "plt.plot(steps, val_losses, label='Validation Loss')\n",
        "plt.title('Loss Over Steps')\n",
        "plt.xlabel('Steps')\n",
        "plt.ylabel('Loss')\n",
        "plt.legend()\n",
        "\n",
        "plt.show()"
      ],
      "metadata": {
        "id": "-Ochuu1hFhVf",
        "colab": {
          "base_uri": "https://localhost:8080/",
          "height": 564
        },
        "outputId": "819f140c-4093-4385-8a1c-5771f197c356"
      },
      "execution_count": 16,
      "outputs": [
        {
          "output_type": "display_data",
          "data": {
            "text/plain": [
              "<Figure size 1200x600 with 1 Axes>"
            ],
            "image/png": "[encoded data removed]"
          },
          "metadata": {}
        }
      ]
    },
    {
      "cell_type": "code",
      "source": [],
      "metadata": {
        "id": "COXwyehDH30m"
      },
      "execution_count": null,
      "outputs": []
    }
  ]
}
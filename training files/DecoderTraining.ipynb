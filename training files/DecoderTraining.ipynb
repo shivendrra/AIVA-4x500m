{
  "nbformat": 4,
  "nbformat_minor": 0,
  "metadata": {
    "colab": {
      "provenance": [],
      "machine_shape": "hm",
      "gpuType": "T4",
      "authorship_tag": "ABX9TyPuS54pOxFupEMxAyg16nHh"
    },
    "kernelspec": {
      "name": "python3",
      "display_name": "Python 3"
    },
    "language_info": {
      "name": "python"
    },
    "accelerator": "GPU"
  },
  "cells": [
    {
      "cell_type": "code",
      "execution_count": 1,
      "metadata": {
        "colab": {
          "base_uri": "https://localhost:8080/"
        },
        "id": "o_yTgSRnEl31",
        "outputId": "08ef9b9e-34c0-4162-db43-c29e7aca5577"
      },
      "outputs": [
        {
          "output_type": "stream",
          "name": "stdout",
          "text": [
            "Mounted at /content/drive\n"
          ]
        }
      ],
      "source": [
        "from google.colab import drive\n",
        "drive.mount('/content/drive')"
      ]
    },
    {
      "cell_type": "code",
      "source": [
        "!pip install tiktoken\n",
        "!pip install safetensors huggingface_hub"
      ],
      "metadata": {
        "id": "V6rmPZenE4Rs",
        "colab": {
          "base_uri": "https://localhost:8080/"
        },
        "outputId": "9ea5a302-7894-44f3-d7c4-a220ee3d88f7"
      },
      "execution_count": 2,
      "outputs": [
        {
          "output_type": "stream",
          "name": "stdout",
          "text": [
            "Collecting tiktoken\n",
            "  Downloading tiktoken-0.6.0-cp310-cp310-manylinux_2_17_x86_64.manylinux2014_x86_64.whl (1.8 MB)\n",
            "\u001b[2K     \u001b[90m━━━━━━━━━━━━━━━━━━━━━━━━━━━━━━━━━━━━━━━━\u001b[0m \u001b[32m1.8/1.8 MB\u001b[0m \u001b[31m7.7 MB/s\u001b[0m eta \u001b[36m0:00:00\u001b[0m\n",
            "\u001b[?25hRequirement already satisfied: regex>=2022.1.18 in /usr/local/lib/python3.10/dist-packages (from tiktoken) (2023.12.25)\n",
            "Requirement already satisfied: requests>=2.26.0 in /usr/local/lib/python3.10/dist-packages (from tiktoken) (2.31.0)\n",
            "Requirement already satisfied: charset-normalizer<4,>=2 in /usr/local/lib/python3.10/dist-packages (from requests>=2.26.0->tiktoken) (3.3.2)\n",
            "Requirement already satisfied: idna<4,>=2.5 in /usr/local/lib/python3.10/dist-packages (from requests>=2.26.0->tiktoken) (3.6)\n",
            "Requirement already satisfied: urllib3<3,>=1.21.1 in /usr/local/lib/python3.10/dist-packages (from requests>=2.26.0->tiktoken) (2.0.7)\n",
            "Requirement already satisfied: certifi>=2017.4.17 in /usr/local/lib/python3.10/dist-packages (from requests>=2.26.0->tiktoken) (2024.2.2)\n",
            "Installing collected packages: tiktoken\n",
            "Successfully installed tiktoken-0.6.0\n",
            "Requirement already satisfied: safetensors in /usr/local/lib/python3.10/dist-packages (0.4.2)\n",
            "Requirement already satisfied: huggingface_hub in /usr/local/lib/python3.10/dist-packages (0.20.3)\n",
            "Requirement already satisfied: filelock in /usr/local/lib/python3.10/dist-packages (from huggingface_hub) (3.13.3)\n",
            "Requirement already satisfied: fsspec>=2023.5.0 in /usr/local/lib/python3.10/dist-packages (from huggingface_hub) (2023.6.0)\n",
            "Requirement already satisfied: requests in /usr/local/lib/python3.10/dist-packages (from huggingface_hub) (2.31.0)\n",
            "Requirement already satisfied: tqdm>=4.42.1 in /usr/local/lib/python3.10/dist-packages (from huggingface_hub) (4.66.2)\n",
            "Requirement already satisfied: pyyaml>=5.1 in /usr/local/lib/python3.10/dist-packages (from huggingface_hub) (6.0.1)\n",
            "Requirement already satisfied: typing-extensions>=3.7.4.3 in /usr/local/lib/python3.10/dist-packages (from huggingface_hub) (4.10.0)\n",
            "Requirement already satisfied: packaging>=20.9 in /usr/local/lib/python3.10/dist-packages (from huggingface_hub) (24.0)\n",
            "Requirement already satisfied: charset-normalizer<4,>=2 in /usr/local/lib/python3.10/dist-packages (from requests->huggingface_hub) (3.3.2)\n",
            "Requirement already satisfied: idna<4,>=2.5 in /usr/local/lib/python3.10/dist-packages (from requests->huggingface_hub) (3.6)\n",
            "Requirement already satisfied: urllib3<3,>=1.21.1 in /usr/local/lib/python3.10/dist-packages (from requests->huggingface_hub) (2.0.7)\n",
            "Requirement already satisfied: certifi>=2017.4.17 in /usr/local/lib/python3.10/dist-packages (from requests->huggingface_hub) (2024.2.2)\n"
          ]
        }
      ]
    },
    {
      "cell_type": "code",
      "source": [
        "# data for model\n",
        "with open('/content/drive/MyDrive/training data/chunk_5.txt', 'r', encoding='utf-8') as file:\n",
        "  input_data = file.read()\n",
        "\n",
        "print(f\"{(len(input_data)/1e9):.2f} billion words\")"
      ],
      "metadata": {
        "colab": {
          "base_uri": "https://localhost:8080/"
        },
        "id": "GrkRK6nEE8OQ",
        "outputId": "376cb795-6fea-442b-a2f4-a4155cd1983f"
      },
      "execution_count": 3,
      "outputs": [
        {
          "output_type": "stream",
          "name": "stdout",
          "text": [
            "1.46 billion words\n"
          ]
        }
      ]
    },
    {
      "cell_type": "code",
      "source": [
        "import tiktoken\n",
        "tokenizer = tiktoken.get_encoding(\"p50k_base\")\n",
        "tokenizer = tiktoken.encoding_for_model(\"text-davinci-003\")\n",
        "\n",
        "n = int(0.9*len(input_data)) # first 90% will be train, rest val\n",
        "train_data = tokenizer.encode(input_data[:n])\n",
        "val_data = tokenizer.encode(input_data[n:])\n",
        "\n",
        "del input_data, n\n",
        "print(f\"total tokens: {(len(train_data)/1e6 + len(val_data)/1e6):.0f} million\")"
      ],
      "metadata": {
        "colab": {
          "base_uri": "https://localhost:8080/"
        },
        "id": "mhCXNRpTE-wC",
        "outputId": "0f707d68-ec5e-44cb-f934-09b503b79d6a"
      },
      "execution_count": 4,
      "outputs": [
        {
          "output_type": "stream",
          "name": "stdout",
          "text": [
            "total tokens: 302 million\n"
          ]
        }
      ]
    },
    {
      "cell_type": "code",
      "source": [
        "import torch\n",
        "\n",
        "# Convert to tensors\n",
        "train_data = torch.tensor(train_data, dtype=torch.long)\n",
        "val_data = torch.tensor(val_data, dtype=torch.long)\n",
        "\n",
        "print(f\"train data {(len(train_data) / 1e6):.0f} million\\nvalidation data {(len(val_data) / 1e6):.0f} million\")\n",
        "print(f\"train data = {train_data[:10]}\\nval data = {val_data[:10]}\")"
      ],
      "metadata": {
        "colab": {
          "base_uri": "https://localhost:8080/"
        },
        "id": "soBEumTcFAMk",
        "outputId": "8e108d9a-5e89-4b63-95d0-f683db615ac3"
      },
      "execution_count": 5,
      "outputs": [
        {
          "output_type": "stream",
          "name": "stdout",
          "text": [
            "train data 271 million\n",
            "validation data 30 million\n",
            "train data = tensor([ 5239,   197, 16963,   457,   197,  5239,    62, 30001,    62, 13664])\n",
            "val data = tensor([  329, 10159, 31095, 11918,    13,  1114, 17826,    11,   340,  7498])\n"
          ]
        }
      ]
    },
    {
      "cell_type": "code",
      "source": [
        "# hyperparameters\n",
        "batch_size = 10\n",
        "block_size = 256\n",
        "max_iters = 1000\n",
        "eval_interval = 100\n",
        "learning_rate = 3e-5\n",
        "eval_iters = 50\n",
        "d_model = 384\n",
        "n_head = 12\n",
        "n_layers = 12\n",
        "dropout = 0.2\n",
        "norm_eps = 1e-5"
      ],
      "metadata": {
        "id": "uungYAIUFB5o"
      },
      "execution_count": 6,
      "outputs": []
    },
    {
      "cell_type": "code",
      "source": [
        "import torch\n",
        "import torch.nn as nn\n",
        "from torch.nn import functional as F\n",
        "device = 'cuda' if torch.cuda.is_available() else 'cpu'\n",
        "\n",
        "class RMSNorm(nn.Module):\n",
        "  def __init__(self, dim: int, eps: float = 1e-6):\n",
        "    super().__init__()\n",
        "    self.eps = eps\n",
        "    self.weight = nn.Parameter(torch.ones(dim))\n",
        "\n",
        "  def _norm(self, x):\n",
        "    return x * torch.rsqrt(x.pow(2).mean(-1, keepdim=True) + self.eps)\n",
        "\n",
        "  def forward(self, x):\n",
        "    output = self._norm(x.float()).type_as(x)\n",
        "    return output * self.weight\n",
        "\n",
        "class MaskedHead(nn.Module):\n",
        "  def __init__(self,\n",
        "      head_size: int,\n",
        "      d_model: int,\n",
        "      block_size: int,\n",
        "      dropout: float):\n",
        "    super().__init__()\n",
        "    self.key = nn.Linear(d_model, head_size, bias=False)\n",
        "    self.query = nn.Linear(d_model, head_size, bias=False)\n",
        "    self.value = nn.Linear(d_model, head_size, bias=False)\n",
        "    self.dropout = nn.Dropout(dropout)\n",
        "    self.register_buffer('tril', torch.tril(torch.ones(block_size, block_size)))\n",
        "\n",
        "  def forward(self, x: torch.Tensor):\n",
        "    B, T, C = x.shape\n",
        "    key = self.key(x)\n",
        "    query = self.query(x)\n",
        "    scores = torch.matmul(query ,key.transpose(-2, -1)) / (key.shape[-1]**-0.5)\n",
        "    scores = scores.masked_fill(self.tril[:T, :T] == 0, float('-inf'))\n",
        "\n",
        "    att_mat = F.softmax(scores, dim=-1)\n",
        "    att_mat = self.dropout(att_mat)\n",
        "    value = self.value(x)\n",
        "    output = torch.matmul(att_mat, value)\n",
        "    return output\n",
        "\n",
        "class UnMaskedHead(nn.Module):\n",
        "  def __init__(self,\n",
        "      head_size: int,\n",
        "      d_model: int,\n",
        "      block_size: int,\n",
        "      dropout: float):\n",
        "    super().__init__()\n",
        "    self.key = nn.Linear(d_model, head_size, bias=False)\n",
        "    self.query = nn.Linear(d_model, head_size, bias=False)\n",
        "    self.value = nn.Linear(d_model, head_size, bias=False)\n",
        "    self.dropout = nn.Dropout(dropout)\n",
        "    self.rel_pos_embd = nn.Parameter(torch.randn(block_size, block_size, head_size))\n",
        "\n",
        "  def forward(self, x: torch.Tensor):\n",
        "    B, T, C = x.shape\n",
        "    key = self.key(x)\n",
        "    query = self.query(x)\n",
        "    scores = torch.matmul(query ,key.transpose(-2, -1)) / (key.shape[-1]**-0.5)\n",
        "\n",
        "    rel_pos_scores = torch.einsum('btc,tvc->btv', query, self.rel_pos_embd[:T, :T])\n",
        "    scores = scores + rel_pos_scores\n",
        "\n",
        "    att_mat = F.softmax(scores, dim=-1)\n",
        "    att_mat = self.dropout(att_mat)\n",
        "    value = self.value(x)\n",
        "    output = torch.matmul(att_mat, value)\n",
        "    return output\n",
        "\n",
        "class MaskedAttention(nn.Module):\n",
        "  def __init__(self,\n",
        "      d_model: int,\n",
        "      block_size: int,\n",
        "      n_head : int,\n",
        "      dropout: float):\n",
        "    head_size = d_model // n_head\n",
        "    super().__init__()\n",
        "    self.heads = nn.ModuleList([MaskedHead(d_model=d_model, dropout=dropout, block_size=block_size, head_size=head_size) for _ in range(n_head)])\n",
        "    self.projection = nn.Linear(head_size * n_head, d_model)\n",
        "    self.dropout = nn.Dropout(dropout)\n",
        "\n",
        "  def forward(self, x: torch.Tensor):\n",
        "    out = torch.cat([h(x) for h in self.heads], dim=-1)\n",
        "    out = self.dropout(self.projection(out))\n",
        "    return out\n",
        "\n",
        "class UnMaskedAttention(nn.Module):\n",
        "  def __init__(self,\n",
        "      d_model: int,\n",
        "      block_size: int,\n",
        "      n_head : int,\n",
        "      dropout: float):\n",
        "    head_size = d_model // n_head\n",
        "    super().__init__()\n",
        "    self.heads = nn.ModuleList([UnMaskedHead(d_model=d_model, dropout=dropout, block_size=block_size, head_size=head_size) for _ in range(n_head)])\n",
        "    self.projection = nn.Linear(head_size * n_head, d_model)\n",
        "    self.dropout = nn.Dropout(dropout)\n",
        "\n",
        "  def forward(self, x: torch.Tensor):\n",
        "    out = torch.cat([h(x) for h in self.heads], dim=-1)\n",
        "    out = self.dropout(self.projection(out))\n",
        "    return out\n",
        "\n",
        "class FeedForward(nn.Module):\n",
        "  def __init__(self, d_model, dropout):\n",
        "    super().__init__()\n",
        "    self.net = nn.Sequential(\n",
        "      nn.Linear(d_model, 5 * d_model),\n",
        "      nn.GELU(),\n",
        "      nn.Linear(5 * d_model, 5 * d_model),\n",
        "      nn.Dropout(dropout),\n",
        "      nn.GELU(),\n",
        "      nn.Linear(5 * d_model, d_model),\n",
        "      nn.Dropout(dropout),\n",
        "      )\n",
        "\n",
        "  def forward(self, x: torch.Tensor):\n",
        "    return self.net(x)\n",
        "\n",
        "class DecoderBlock(nn.Module):\n",
        "  def __init__(self, d_model: int,\n",
        "        block_size: int,\n",
        "        n_head: int,\n",
        "        norm_eps: float,\n",
        "        dropout: float):\n",
        "    super().__init__()\n",
        "    self.m_att = MaskedAttention(n_head=n_head, d_model=d_model, dropout=dropout, block_size=block_size)\n",
        "    self.um_att = UnMaskedAttention(n_head=n_head, d_model=d_model, dropout=dropout, block_size=block_size)\n",
        "    self.ffwd = FeedForward(d_model, dropout)\n",
        "    self.dropout = nn.Dropout(dropout)\n",
        "    self.norm = RMSNorm(d_model, eps=norm_eps)\n",
        "\n",
        "  def forward(self, x: torch.Tensor):\n",
        "    x_out = self.m_att(self.norm(x))\n",
        "    x_out = x + self.dropout(x_out)\n",
        "    del x\n",
        "\n",
        "    x = self.um_att(self.norm(x_out))\n",
        "    x = x_out + self.dropout(x)\n",
        "    del x_out\n",
        "\n",
        "    x_out = self.ffwd(self.norm(x))\n",
        "    x_out = x + self.dropout(x_out)\n",
        "    del x\n",
        "\n",
        "    return x_out\n",
        "\n",
        "class Transformer(nn.Module):\n",
        "  def __init__(self, vocab_size: int):\n",
        "    super().__init__()\n",
        "    self.block_size = block_size\n",
        "    self.token_embeddings = nn.Embedding(vocab_size, d_model)\n",
        "    self.pos_encodings = nn.Embedding(block_size, d_model)\n",
        "    self.decoder = nn.Sequential(*[DecoderBlock(n_head=n_head, d_model=d_model, dropout=dropout, norm_eps=norm_eps, block_size=block_size) for _ in range(n_layers)])\n",
        "    self.norm_final = RMSNorm(d_model, eps=norm_eps)\n",
        "    self.linear_final = nn.Linear(d_model, vocab_size)\n",
        "    self.dropout = nn.Dropout(dropout)\n",
        "    self.apply(self._init_weights)\n",
        "\n",
        "  def _init_weights(self, module):\n",
        "    if isinstance(module, nn.Linear):\n",
        "      torch.nn.init.normal_(module.weight, mean=0.0, std=0.02)\n",
        "      if module.bias is not None:\n",
        "        torch.nn.init.zeros_(module.bias.data)\n",
        "    elif isinstance(module, nn.Embedding):\n",
        "      torch.nn.init.normal_(module.weight, mean=0.0, std=0.02)\n",
        "\n",
        "  def forward(self, idx, targets=None):\n",
        "    B, T = idx.shape\n",
        "    toked_model = self.token_embeddings(idx)\n",
        "    pos_encod = self.pos_encodings(torch.arange(T, device=device))\n",
        "    x = toked_model + pos_encod\n",
        "\n",
        "    # logits = self.linear_final(self.norm_final(self.decoder(x)))\n",
        "    x = self.decoder(x)\n",
        "    x = self.norm_final(x)\n",
        "    logits = self.linear_final(x)\n",
        "\n",
        "    if targets is None:\n",
        "      loss = None\n",
        "\n",
        "    else:\n",
        "      B, T, C = logits.shape\n",
        "      logits = logits.view(B*T, C)\n",
        "      targets = targets.view(B*T)\n",
        "      loss = F.cross_entropy(logits, targets)\n",
        "\n",
        "    return logits, loss\n",
        "\n",
        "  def generate(self, idx: torch.Tensor, max_token: int=10):\n",
        "    for _ in range(max_token):\n",
        "      idx_cond = idx[:, -self.block_size:]\n",
        "      logits = self(idx_cond)\n",
        "      logits = logits[:, -1, :]\n",
        "      probs = F.softmax(logits, dim=-1)\n",
        "      idx_next = torch.argmax(probs, dim=-1)\n",
        "      idx = torch.cat((idx, idx_next), dim=1)\n",
        "    return idx"
      ],
      "metadata": {
        "id": "mxNnZIJbFDdS"
      },
      "execution_count": 9,
      "outputs": []
    },
    {
      "cell_type": "code",
      "source": [
        "# data loading\n",
        "def get_batch(split):\n",
        "    # generate a small batch of data of inputs x and targets y\n",
        "    data = train_data if split == 'train' else val_data\n",
        "    ix = torch.randint(len(data) - block_size, (batch_size,))\n",
        "    x = torch.stack([data[i:i+block_size] for i in ix])\n",
        "    y = torch.stack([data[i+1:i+block_size+1] for i in ix])\n",
        "    x, y = x.to(device), y.to(device)\n",
        "    return x, y\n",
        "\n",
        "@torch.no_grad()\n",
        "def estimate_loss():\n",
        "    out = {}\n",
        "    model.eval()\n",
        "    for split in ['train', 'val']:\n",
        "        losses = torch.zeros(eval_iters)\n",
        "        for k in range(eval_iters):\n",
        "            X, Y = get_batch(split)\n",
        "            logits, loss = model(X, Y)\n",
        "            losses[k] = loss.item()\n",
        "        out[split] = losses.mean()\n",
        "    model.train()\n",
        "    return out\n",
        "\n",
        "vocab_size = tokenizer.n_vocab\n",
        "model = Transformer(vocab_size)\n",
        "# checkpoint_path = '/content/drive/MyDrive/base-500m.pth'\n",
        "# checkpoint = torch.load(checkpoint_path)\n",
        "# model.load_state_dict(checkpoint)\n",
        "m = model.to(device)\n",
        "\n",
        "# no of parameters\n",
        "n_param = sum(p.numel() for p in m.parameters())/1e6\n",
        "print(f\"{n_param:.0f} million parameters\")\n",
        "optimizer = torch.optim.AdamW(model.parameters(), lr=learning_rate)\n",
        "\n",
        "steps = []\n",
        "train_losses = []\n",
        "val_losses = []\n",
        "\n",
        "for iter in range(max_iters):\n",
        "\n",
        "  if iter % eval_interval == 0 or iter == max_iters - 1:\n",
        "    losses = estimate_loss()\n",
        "    print(f\"step {iter}: train loss {losses['train']:.4f}, val loss {losses['val']:.4f}\")\n",
        "\n",
        "    steps.append(iter)\n",
        "    train_losses.append(losses['train'])\n",
        "    val_losses.append(losses['val'])\n",
        "\n",
        "  xb, yb = get_batch('train')\n",
        "  logits, loss = model(xb, yb)\n",
        "  optimizer.zero_grad(set_to_none=True)\n",
        "  loss.backward()\n",
        "  optimizer.step()"
      ],
      "metadata": {
        "id": "lXjKHrooFSOb"
      },
      "execution_count": null,
      "outputs": []
    },
    {
      "cell_type": "code",
      "source": [
        "model_save_name = f'consolidated_00.pth'\n",
        "path = f\"/content/drive/MyDrive/{model_save_name}\"\n",
        "torch.save(model.state_dict(), path)\n",
        "\n",
        "# saving safe-tensors\n",
        "from safetensors.torch import save_file\n",
        "\n",
        "model_save_name = f'consolidated_00.safetensors'\n",
        "path = f\"/content/drive/MyDrive/{model_save_name}\"\n",
        "save_file(model.state_dict(), path)"
      ],
      "metadata": {
        "id": "S1dGX2_PFX9E"
      },
      "execution_count": null,
      "outputs": []
    },
    {
      "cell_type": "code",
      "source": [
        "import matplotlib.pyplot as plt\n",
        "\n",
        "plt.figure(figsize=(12, 6))\n",
        "plt.plot(steps, train_losses, label='Train Loss')\n",
        "plt.plot(steps, val_losses, label='Validation Loss')\n",
        "plt.title('Loss Over Steps')\n",
        "plt.xlabel('Steps')\n",
        "plt.ylabel('Loss')\n",
        "plt.legend()\n",
        "\n",
        "plt.show()"
      ],
      "metadata": {
        "id": "-Ochuu1hFhVf"
      },
      "execution_count": null,
      "outputs": []
    }
  ]
}
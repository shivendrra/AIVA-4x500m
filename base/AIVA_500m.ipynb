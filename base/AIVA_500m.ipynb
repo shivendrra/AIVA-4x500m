{
  "nbformat": 4,
  "nbformat_minor": 0,
  "metadata": {
    "colab": {
      "provenance": [],
      "machine_shape": "hm",
      "gpuType": "T4",
      "authorship_tag": "ABX9TyOKRNYqoTheFEeCtRMCsj24",
      "include_colab_link": true
    },
    "kernelspec": {
      "name": "python3",
      "display_name": "Python 3"
    },
    "language_info": {
      "name": "python"
    },
    "accelerator": "GPU"
  },
  "cells": [
    {
      "cell_type": "markdown",
      "metadata": {
        "id": "view-in-github",
        "colab_type": "text"
      },
      "source": [
        "<a href=\"https://colab.research.google.com/github/shivendrra/AIVA-4x500m/blob/main/base/AIVA_500m.ipynb\" target=\"_parent\"><img src=\"https://colab.research.google.com/assets/colab-badge.svg\" alt=\"Open In Colab\"/></a>"
      ]
    },
    {
      "cell_type": "code",
      "execution_count": 1,
      "metadata": {
        "id": "owjS3-sBcdBh",
        "colab": {
          "base_uri": "https://localhost:8080/"
        },
        "outputId": "3c6bd684-4cfd-4429-8f9b-8cfe48292ab2"
      },
      "outputs": [
        {
          "output_type": "stream",
          "name": "stdout",
          "text": [
            "Drive already mounted at /content/drive; to attempt to forcibly remount, call drive.mount(\"/content/drive\", force_remount=True).\n"
          ]
        }
      ],
      "source": [
        "from google.colab import drive\n",
        "drive.mount('/content/drive')"
      ]
    },
    {
      "cell_type": "code",
      "source": [
        "!pip install tiktoken"
      ],
      "metadata": {
        "id": "keNA2G8xfroc",
        "colab": {
          "base_uri": "https://localhost:8080/"
        },
        "outputId": "8486c391-3e34-48f7-d608-f72855183b40"
      },
      "execution_count": 2,
      "outputs": [
        {
          "output_type": "stream",
          "name": "stdout",
          "text": [
            "Requirement already satisfied: tiktoken in /usr/local/lib/python3.10/dist-packages (0.6.0)\n",
            "Requirement already satisfied: regex>=2022.1.18 in /usr/local/lib/python3.10/dist-packages (from tiktoken) (2023.12.25)\n",
            "Requirement already satisfied: requests>=2.26.0 in /usr/local/lib/python3.10/dist-packages (from tiktoken) (2.31.0)\n",
            "Requirement already satisfied: charset-normalizer<4,>=2 in /usr/local/lib/python3.10/dist-packages (from requests>=2.26.0->tiktoken) (3.3.2)\n",
            "Requirement already satisfied: idna<4,>=2.5 in /usr/local/lib/python3.10/dist-packages (from requests>=2.26.0->tiktoken) (3.6)\n",
            "Requirement already satisfied: urllib3<3,>=1.21.1 in /usr/local/lib/python3.10/dist-packages (from requests>=2.26.0->tiktoken) (2.0.7)\n",
            "Requirement already satisfied: certifi>=2017.4.17 in /usr/local/lib/python3.10/dist-packages (from requests>=2.26.0->tiktoken) (2024.2.2)\n"
          ]
        }
      ]
    },
    {
      "cell_type": "code",
      "source": [
        "# data for model\n",
        "with open('/content/drive/MyDrive/training data/consolidated_300m.txt', 'r', encoding='utf-8') as file:\n",
        "  train_data = file.read()\n",
        "\n",
        "print(f\"{(len(train_data)/1e9):.2f} billion words\")"
      ],
      "metadata": {
        "id": "BSh3yuTGfu21",
        "colab": {
          "base_uri": "https://localhost:8080/"
        },
        "outputId": "d25005b5-2a18-41df-eea3-569d3948dbd7"
      },
      "execution_count": 3,
      "outputs": [
        {
          "output_type": "stream",
          "name": "stdout",
          "text": [
            "1.98 billion words\n"
          ]
        }
      ]
    },
    {
      "cell_type": "code",
      "source": [
        "import tiktoken\n",
        "tokenizer = tiktoken.get_encoding(\"p50k_base\")\n",
        "tokenizer = tiktoken.encoding_for_model(\"text-davinci-003\")\n",
        "\n",
        "input_data = tokenizer.encode(train_data)\n",
        "print(f\"total tokens: {(len(input_data)/1e6):.0f} million\")\n",
        "\n",
        "n = int(0.9*len(input_data)) # first 90% will be train, rest val\n",
        "train_data = input_data[:n]\n",
        "val_data = input_data[n:]\n",
        "\n",
        "del input_data, n"
      ],
      "metadata": {
        "id": "VmBZRVhqfyn2",
        "colab": {
          "base_uri": "https://localhost:8080/"
        },
        "outputId": "1cc10125-583f-4d17-d9f3-62af9b4a9712"
      },
      "execution_count": 4,
      "outputs": [
        {
          "output_type": "stream",
          "name": "stdout",
          "text": [
            "total tokens: 400 million\n"
          ]
        }
      ]
    },
    {
      "cell_type": "code",
      "source": [
        "import torch\n",
        "\n",
        "# Convert to tensors\n",
        "train_data = torch.tensor(train_data, dtype=torch.long)\n",
        "val_data = torch.tensor(val_data, dtype=torch.long)\n",
        "\n",
        "print(f\"train data {(len(train_data) / 1e6):.0f} million\\nvalidation data {(len(val_data) / 1e6):.0f} million\")\n",
        "print(f\"train data = {train_data[:10]}, \\nval data = {val_data[:10]}\")"
      ],
      "metadata": {
        "id": "rtfFsfgdf8rw",
        "colab": {
          "base_uri": "https://localhost:8080/"
        },
        "outputId": "d24fc1e5-669f-46dc-d9de-9c415bbbebc0"
      },
      "execution_count": 5,
      "outputs": [
        {
          "output_type": "stream",
          "name": "stdout",
          "text": [
            "train data 360 million\n",
            "validation data 40 million\n",
            "train data = tensor([ 5239,   197, 16963,   457,   197,  5239,    62, 30001,    62, 13664]), \n",
            "val data = tensor([  13,  198, 1532,  345,  561,  588,  285,    1, 1911,  198])\n"
          ]
        }
      ]
    },
    {
      "cell_type": "code",
      "source": [
        "# hyperparameters\n",
        "batch_size = 10\n",
        "block_size = 256\n",
        "max_iters = 5000\n",
        "eval_interval = 100\n",
        "learning_rate = 3e-5\n",
        "device = 'cuda' if torch.cuda.is_available() else 'cpu'\n",
        "eval_iters = 100\n",
        "d_model = 512\n",
        "n_head = 18\n",
        "n_layers = 12\n",
        "dropout = 0.2\n",
        "norm_eps = 1e-05"
      ],
      "metadata": {
        "id": "tJuCsc1QPdts"
      },
      "execution_count": 6,
      "outputs": []
    },
    {
      "cell_type": "code",
      "source": [
        "import torch\n",
        "import torch.nn as nn\n",
        "from torch.nn import functional as F\n",
        "\n",
        "device = 'cuda' if torch.cuda.is_available() else 'cpu'\n",
        "\n",
        "class RMSNorm(nn.Module):\n",
        "  def __init__(self, dim: int, eps: float = 1e-6):\n",
        "    \"\"\"\n",
        "      Initialize the RMSNorm normalization layer.\n",
        "      Args:\n",
        "        dim (int): The dimension of the input tensor.\n",
        "        eps (float, optional): A small value added to the denominator for numerical stability. Default is 1e-6.\n",
        "      Attributes:\n",
        "        eps (float): A small value added to the denominator for numerical stability.\n",
        "        weight (nn.Parameter): Learnable scaling parameter.\n",
        "    \"\"\"\n",
        "    super().__init__()\n",
        "    self.eps = eps\n",
        "    self.weight = nn.Parameter(torch.ones(dim))\n",
        "\n",
        "  def _norm(self, x):\n",
        "    \"\"\"\n",
        "      Apply the RMSNorm normalization to the input tensor.\n",
        "        Args:\n",
        "        x (torch.Tensor): The input tensor.\n",
        "      Returns:\n",
        "        torch.Tensor: The normalized tensor.\n",
        "    \"\"\"\n",
        "    return x * torch.rsqrt(x.pow(2).mean(-1, keepdim=True) + self.eps)\n",
        "\n",
        "  def forward(self, x):\n",
        "    \"\"\"\n",
        "      Forward pass through the RMSNorm layer.\n",
        "      Args:\n",
        "          x (torch.Tensor): The input tensor.\n",
        "      Returns:\n",
        "          torch.Tensor: The output tensor after applying RMSNorm.\n",
        "    \"\"\"\n",
        "    output = self._norm(x.float()).type_as(x)\n",
        "    return output * self.weight\n",
        "\n",
        "class UnMaskedHead(nn.Module):\n",
        "  def __init__(self, head_size, d_model, block_size, dropout):\n",
        "    super().__init__()\n",
        "    self.key = nn.Linear(d_model, head_size, bias=True)\n",
        "    self.query = nn.Linear(d_model, head_size, bias=True)\n",
        "    self.value = nn.Linear(d_model, head_size, bias=False)\n",
        "    self.dropout = nn.Dropout(dropout)\n",
        "    self.rel_pos_embd = nn.Parameter(torch.randn(block_size, block_size, head_size))\n",
        "\n",
        "  def forward(self, x):\n",
        "    B, T, C = x.shape\n",
        "    key = self.key(x)\n",
        "    query = self.query(x)\n",
        "\n",
        "    scores = torch.matmul(query, key.transpose(-2, -1)) / (key.shape[-1] ** -0.5)\n",
        "    rel_pos_scores = torch.einsum('btc,tvc->btv', query, self.rel_pos_embd[:T, :T])\n",
        "    scores = scores + rel_pos_scores\n",
        "\n",
        "    att_mat = F.softmax(scores, dim=-1)\n",
        "    att_mat = self.dropout(att_mat)\n",
        "    value = self.value(x)\n",
        "    output = torch.matmul(att_mat, value)\n",
        "    return output\n",
        "\n",
        "class UnMaskedAttention(nn.Module):\n",
        "  def __init__(self, d_model, block_size, dropout, n_head):\n",
        "    head_size = d_model // n_head\n",
        "    super().__init__()\n",
        "    self.heads = nn.ModuleList([UnMaskedHead(d_model=d_model, dropout=dropout, block_size=block_size, head_size=head_size) for _ in range(n_head)])\n",
        "    self.proj = nn.Linear(n_head * head_size, d_model)\n",
        "    self.dropout = nn.Dropout(dropout)\n",
        "\n",
        "  def forward(self, x):\n",
        "    out = torch.cat([h(x) for h in self.heads], dim=-1)\n",
        "    out = self.dropout(self.proj(out))\n",
        "    return out\n",
        "\n",
        "class MaskedHead(nn.Module):\n",
        "  def __init__(self, d_model, head_size, dropout, block_size):\n",
        "    super().__init__()\n",
        "    self.key = nn.Linear(d_model, head_size, bias=False)\n",
        "    self.query = nn.Linear(d_model, head_size, bias=False)\n",
        "    self.value = nn.Linear(d_model, head_size, bias=False)\n",
        "    self.dropout = nn.Dropout(dropout)\n",
        "    self.register_buffer('tril', torch.tril(torch.ones(block_size, block_size)))\n",
        "\n",
        "  def forward(self, x):\n",
        "    B, T, C = x.shape\n",
        "    key = self.key(x)\n",
        "    query = self.query(x)\n",
        "\n",
        "    scores = torch.matmul(query, key.transpose(-2, -1)) / (key.shape[-1] ** -0.5)\n",
        "    scores = scores.masked_fill(self.tril[:T, :T] == 0, float('-inf'))\n",
        "\n",
        "    att_mat = F.softmax(scores, dim=-1)\n",
        "    att_mat = self.dropout(att_mat)\n",
        "    value = self.value(x)\n",
        "    output = torch.matmul(att_mat, value)\n",
        "    return output\n",
        "\n",
        "class CasualMaskedAttention(nn.Module):\n",
        "  def __init__(self, d_model, block_size, dropout, n_head):\n",
        "    head_size = d_model // n_head\n",
        "    super().__init__()\n",
        "    self.heads = nn.ModuleList([MaskedHead(d_model=d_model, dropout=dropout, block_size=block_size, head_size=head_size) for _ in range(n_head)])\n",
        "    self.proj = nn.Linear(n_head * head_size, d_model)\n",
        "    self.dropout = nn.Dropout(dropout)\n",
        "\n",
        "  def forward(self, x):\n",
        "    out = torch.cat([h(x) for h in self.heads], dim=-1)\n",
        "    out = self.dropout(self.proj(out))\n",
        "    return out\n",
        "\n",
        "class FinalHead(nn.Module):\n",
        "  def __init__(self, d_model, head_size, dropout, block_size):\n",
        "    super().__init__()\n",
        "    self.key = nn.Linear(d_model, head_size, bias=False)\n",
        "    self.query = nn.Linear(d_model, head_size, bias=False)\n",
        "    self.value = nn.Linear(d_model, head_size, bias=True)\n",
        "    self.dropout = nn.Dropout(dropout)\n",
        "\n",
        "  def forward(self, x, att):\n",
        "    B, T, C = x.shape\n",
        "    key = self.key(att)\n",
        "    query = self.query(att)\n",
        "\n",
        "    scores = torch.matmul(query, key.transpose(-2, -1)) / (key.shape[-1] ** -0.5)\n",
        "\n",
        "    att_mat = F.softmax(scores, dim=-1)\n",
        "    att_mat = self.dropout(att_mat)\n",
        "    value = self.value(x)\n",
        "    output = torch.matmul(att_mat, value)\n",
        "    return output\n",
        "\n",
        "class FinalAttention(nn.Module):\n",
        "  def __init__(self, d_model, block_size, dropout, n_head):\n",
        "    head_size = d_model // n_head\n",
        "    super().__init__()\n",
        "    self.heads = nn.ModuleList([FinalHead(d_model=d_model, dropout=dropout, block_size=block_size, head_size=head_size) for _ in range(n_head)])\n",
        "    self.proj = nn.Linear(n_head * head_size, d_model)\n",
        "    self.dropout = nn.Dropout(dropout)\n",
        "\n",
        "  def forward(self, x, att):\n",
        "    out = torch.cat([h(x, att) for h in self.heads], dim=-1)\n",
        "    out = self.dropout(self.proj(out))\n",
        "    return out\n",
        "\n",
        "class FeedForward(nn.Module):\n",
        "  def __init__(self, d_model, dropout):\n",
        "    super().__init__()\n",
        "    self.net = nn.Sequential(\n",
        "      nn.Linear(d_model, 4*d_model),\n",
        "      nn.GELU(),\n",
        "      nn.Linear(4*d_model, d_model),\n",
        "      nn.Dropout(dropout)\n",
        "    )\n",
        "\n",
        "  def forward(self, x):\n",
        "    return self.net(x)\n",
        "\n",
        "class EncoderNetwork(nn.Module):\n",
        "  def __init__(self, d_model, n_head, norm_eps, dropout, block_size):\n",
        "    super().__init__()\n",
        "    self.s_att = UnMaskedAttention(n_head=n_head, d_model=d_model, dropout=dropout, block_size=block_size)\n",
        "    self.ffwd = FeedForward(d_model, dropout)\n",
        "    self.dropout = nn.Dropout(dropout)\n",
        "    self.norm = RMSNorm(d_model, eps=norm_eps)\n",
        "\n",
        "  def forward(self, src):\n",
        "    src_att = self.s_att(self.norm(src))\n",
        "    src_out = src + self.dropout(src_att)\n",
        "\n",
        "    src = self.ffwd(self.norm(src_out))\n",
        "    src_f = src_out + self.dropout(src)\n",
        "\n",
        "    del src_att, src_out, src\n",
        "    return src_f\n",
        "\n",
        "class DecoderNetwork(nn.Module):\n",
        "  def __init__(self, d_model, n_head, norm_eps, dropout, block_size):\n",
        "    super().__init__()\n",
        "    self.m_att = CasualMaskedAttention(n_head=n_head, d_model=d_model, dropout=dropout, block_size=block_size)\n",
        "    self.f_att = FinalAttention(d_model=d_model, n_head=n_head, dropout=dropout, block_size=block_size)\n",
        "    self.ffwd = FeedForward(d_model, dropout)\n",
        "    self.dropout = nn.Dropout(dropout)\n",
        "    self.norm = RMSNorm(d_model, eps=norm_eps)\n",
        "\n",
        "  def forward(self, src, att):\n",
        "    m_att_out = self.m_att(self.norm(src))\n",
        "    m_out = src + self.dropout(m_att_out)\n",
        "\n",
        "    f_out = self.f_att(self.norm(m_out), self.norm(att))\n",
        "    f_out = m_out + self.dropout(f_out)\n",
        "\n",
        "    src_f = self.ffwd(self.norm(f_out))\n",
        "    src_f = f_out + self.dropout(src_f)\n",
        "\n",
        "    del f_out, m_out, m_att_out, src, att\n",
        "    return src_f\n",
        "\n",
        "class Transformer(nn.Module):\n",
        "  def __init__(self, vocab_size):\n",
        "    super().__init__()\n",
        "    self.block_size = block_size\n",
        "    self.toked_model = nn.Embedding(vocab_size, d_model)\n",
        "    self.pos_encod = nn.Embedding(block_size, d_model)\n",
        "    self.enc_layer = nn.ModuleList([EncoderNetwork(n_head=n_head, norm_eps=norm_eps, block_size=block_size, dropout=dropout, d_model=d_model) for _ in range(n_layers)])\n",
        "    self.dec_layer = nn.ModuleList([DecoderNetwork(n_head=n_head, norm_eps=norm_eps, block_size=block_size, dropout=dropout, d_model=d_model) for _ in range(n_layers)])\n",
        "    self.norm_final = RMSNorm(d_model, eps=norm_eps)\n",
        "    self.linear_final = nn.Linear(d_model, vocab_size)\n",
        "    self.dropout = nn.Dropout(dropout)\n",
        "    self.apply(self._init_weights)\n",
        "\n",
        "  def _init_weights(self, module):\n",
        "    \"\"\"\n",
        "      initialize weights of linear and embedding layers\n",
        "\n",
        "      Args:\n",
        "        - module (nn.Module): the module to initialize weights for\n",
        "    \"\"\"\n",
        "    if isinstance(module, nn.Linear):\n",
        "      torch.nn.init.normal_(module.weight, mean=0.0, std=0.02)\n",
        "      if module.bias is not None:\n",
        "        torch.nn.init.zeros_(module.bias.data)\n",
        "    elif isinstance(module, nn.Embedding):\n",
        "      torch.nn.init.normal_(module.weight, mean=0.0, std=0.02)\n",
        "\n",
        "  def forward(self, idx, targets=None):\n",
        "    \"\"\"\n",
        "      forward pass of the transformer model\n",
        "\n",
        "    Args:\n",
        "      - idx (Tensor): input tensor representing token indices\n",
        "      - targets (Tensor): target tensor for computing loss during training\n",
        "\n",
        "    Returns:\n",
        "      - logits (Tensor): output logits from the final linear layer\n",
        "      - loss (Tensor): optional. computed cross-entropy loss if targets are provided, else None\n",
        "    \"\"\"\n",
        "    B, T = idx.shape\n",
        "\n",
        "    toked_model = self.toked_model(idx)\n",
        "    pos_encod = self.pos_encod(torch.arange(T, device=device))\n",
        "    x = toked_model + pos_encod\n",
        "\n",
        "    for layer in self.enc_layer:\n",
        "      x_out = layer(x)\n",
        "\n",
        "    for layer in self.dec_layer:\n",
        "      x_final = layer(x, x_out)\n",
        "\n",
        "    x_final = self.norm_final(x_final)\n",
        "    logits = self.linear_final(x_final)\n",
        "\n",
        "    if targets is None:\n",
        "      loss = None\n",
        "\n",
        "    else:\n",
        "      B, T, C = logits.shape\n",
        "      logits = logits.view(B*T, C)\n",
        "      targets = targets.view(B*T)\n",
        "      loss = F.cross_entropy(logits, targets)\n",
        "\n",
        "    return logits, loss\n",
        "\n",
        "  def generate(self, idx, max_new_tokens, temperature=1.0, top_k=0):\n",
        "    \"\"\"\n",
        "      generate new tokens using the trained model\n",
        "\n",
        "    Args:\n",
        "      - idx (Tensor): input tensor representing initial token indices\n",
        "      - max_new_tokens (int): max no of new tokens to generate\n",
        "      - temperature (float): softmax temperature for sampling\n",
        "      - top_k (int): no of top tokens to consider in sampling\n",
        "\n",
        "    Returns:\n",
        "      - generated_tokens (list): list of generated token indices\n",
        "    \"\"\"\n",
        "    generated_tokens = []\n",
        "\n",
        "    for _ in range(max_new_tokens):\n",
        "      idx_cond = idx[:, -self.block_size:]\n",
        "      logits, _ = self(idx_cond)\n",
        "      logits = logits[:, -1, :]\n",
        "\n",
        "      scaled_logits = logits / temperature\n",
        "      if top_k > 0:\n",
        "        scaled_logits = self._top_k_filtering(scaled_logits, top_k)\n",
        "\n",
        "      probs = F.softmax(scaled_logits, dim=-1)\n",
        "      sampled_idx = torch.multinomial(probs, num_samples=1)\n",
        "      generated_tokens.append(sampled_idx.item())\n",
        "      idx = torch.cat((idx, sampled_idx), dim=1)\n",
        "\n",
        "    return generated_tokens\n",
        "\n",
        "  def generate_masked_tokens(self, idx, masked_indices, temperature=1.0, top_k=0):\n",
        "    \"\"\"\n",
        "      Generate predictions for masked tokens using the trained model.\n",
        "\n",
        "      Args:\n",
        "        - idx (Tensor): input tensor representing token indices\n",
        "        - masked_indices (Tensor): tensor of indices indicating masked positions\n",
        "        - temperature (float): softmax temperature for sampling\n",
        "        - top_k (int): no of top tokens to consider in sampling\n",
        "\n",
        "      Returns:\n",
        "        - predicted_tokens (Tensor): tensor of predicted token indices\n",
        "    \"\"\"\n",
        "    B, T = idx.shape\n",
        "\n",
        "    toked_model = self.toked_model(idx)\n",
        "    pos_encod = self.pos_encod(torch.arange(T, device=device))\n",
        "    x = toked_model + pos_encod\n",
        "\n",
        "    for layer in self.enc_layer:\n",
        "      x_out = layer(x)\n",
        "\n",
        "    for layer in self.dec_layer:\n",
        "      x_final = layer(x, x_out)\n",
        "\n",
        "    x_masked = x_final.clone()\n",
        "    x_masked[masked_indices] = self.toked_model(torch.tensor([6], device=device))\n",
        "\n",
        "    x_masked = self.norm_final(x_masked)\n",
        "    logits = self.linear_final(x_masked)\n",
        "\n",
        "    masked_logits = logits[masked_indices].view(-1, logits.size(-1))\n",
        "    scaled_logits = masked_logits / temperature\n",
        "    if top_k > 0:\n",
        "      scaled_logits = self._top_k_filtering(scaled_logits, top_k)\n",
        "\n",
        "    probs = F.softmax(scaled_logits, dim=-1)\n",
        "    predicted_indices = torch.argmax(probs, dim=-1)\n",
        "\n",
        "    return predicted_indices\n",
        "\n",
        "  def _top_k_filtering(self, logits, top_k):\n",
        "    \"\"\"\n",
        "      filter logits to keep only the top-k tokens\n",
        "\n",
        "    Args:\n",
        "      - logits (Tensor): input tensor representing unscaled logits\n",
        "      - top_k (int): no of top tokens to keep\n",
        "\n",
        "    Returns:\n",
        "      - filtered_logits (Tensor): filtered logits with only top-k tokens remaining\n",
        "    \"\"\"\n",
        "    values, indices = torch.topk(logits, top_k, dim=-1)\n",
        "    min_value = values[:, -1].unsqueeze(-1).expand_as(logits)\n",
        "    filtered_logits = torch.where(logits < min_value, torch.ones_like(logits) * -float('inf'), logits)\n",
        "\n",
        "    return filtered_logits"
      ],
      "metadata": {
        "id": "OusOJ_H8gARB"
      },
      "execution_count": 7,
      "outputs": []
    },
    {
      "cell_type": "code",
      "source": [
        "\"\"\"\n",
        "  use this file to train the model\n",
        "\n",
        "  working:\n",
        "    - imports vatious dependencies first, and then loads the training data\n",
        "    - tokenizes it, per-character basis\n",
        "    - loads the required hyper-parameters and the model file\n",
        "    - trains it till 'max_iters' and saves the model state, and generates outputs\n",
        "\n",
        "  with the current set configuration, model can reach upto ~60million parameters\n",
        "  and can become ~99% accurate with next token prediction\n",
        "\"\"\"\n",
        "\n",
        "# data loading\n",
        "def get_batch(split):\n",
        "    # generate a small batch of data of inputs x and targets y\n",
        "    data = train_data if split == 'train' else val_data\n",
        "    ix = torch.randint(len(data) - block_size, (batch_size,))\n",
        "    x = torch.stack([data[i:i+block_size] for i in ix])\n",
        "    y = torch.stack([data[i+1:i+block_size+1] for i in ix])\n",
        "    x, y = x.to(device), y.to(device)\n",
        "    return x, y\n",
        "\n",
        "@torch.no_grad()\n",
        "def estimate_loss():\n",
        "    out = {}\n",
        "    model.eval()\n",
        "    for split in ['train', 'val']:\n",
        "        losses = torch.zeros(eval_iters)\n",
        "        for k in range(eval_iters):\n",
        "            X, Y = get_batch(split)\n",
        "            logits, loss = model(X, Y)\n",
        "            losses[k] = loss.item()\n",
        "        out[split] = losses.mean()\n",
        "    model.train()\n",
        "    return out\n",
        "\n",
        "vocab_size = tokenizer.n_vocab\n",
        "model = Transformer(vocab_size)\n",
        "# checkpoint_path = '/content/drive/MyDrive/aiva_base-886m.pth'\n",
        "# checkpoint = torch.load(checkpoint_path)\n",
        "# model.load_state_dict(checkpoint)\n",
        "m = model.to(device)\n",
        "\n",
        "# no of parameters\n",
        "n_param = sum(p.numel() for p in m.parameters())/1e6\n",
        "print(f\"vocab size: {vocab_size}\")\n",
        "print(f\"{n_param:.0f} million parameters\")\n",
        "optimizer = torch.optim.AdamW(model.parameters(), lr=learning_rate)\n",
        "\n",
        "steps = []\n",
        "train_losses = []\n",
        "val_losses = []\n",
        "\n",
        "for iter in range(max_iters):\n",
        "\n",
        "  if iter % eval_interval == 0 or iter == max_iters - 1:\n",
        "    losses = estimate_loss()\n",
        "    print(f\"step {iter}: train loss {losses['train']:.4f}, val loss {losses['val']:.4f}\")\n",
        "\n",
        "    steps.append(iter)\n",
        "    train_losses.append(losses['train'])\n",
        "    val_losses.append(losses['val'])\n",
        "\n",
        "  xb, yb = get_batch('train')\n",
        "  logits, loss = model(xb, yb)\n",
        "  optimizer.zero_grad(set_to_none=True)\n",
        "  loss.backward()\n",
        "  optimizer.step()"
      ],
      "metadata": {
        "colab": {
          "base_uri": "https://localhost:8080/",
          "height": 932
        },
        "id": "dORKqYKmPmit",
        "outputId": "a1c1f52c-a3f6-4db6-f2e5-0d378ad66505"
      },
      "execution_count": 8,
      "outputs": [
        {
          "output_type": "stream",
          "name": "stdout",
          "text": [
            "vocab size: 50281\n",
            "536 million parameters\n",
            "step 0: train loss 10.9446, val loss 10.9414\n",
            "step 100: train loss 8.6948, val loss 8.7504\n",
            "step 200: train loss 7.8092, val loss 7.9258\n",
            "step 300: train loss 7.6445, val loss 7.7898\n",
            "step 400: train loss 7.6184, val loss 7.7647\n",
            "step 500: train loss 7.5690, val loss 7.7763\n",
            "step 600: train loss 7.5422, val loss 7.7430\n",
            "step 700: train loss 7.5362, val loss 7.7559\n",
            "step 800: train loss 7.4778, val loss 7.7400\n",
            "step 900: train loss 7.4192, val loss 7.6667\n",
            "step 1000: train loss 7.3854, val loss 7.6163\n",
            "step 1100: train loss 7.3321, val loss 7.5843\n",
            "step 1200: train loss 7.2594, val loss 7.5148\n",
            "step 1300: train loss 7.2283, val loss 7.4860\n",
            "step 1400: train loss 7.1611, val loss 7.4022\n",
            "step 1500: train loss 7.0903, val loss 7.3789\n",
            "step 1600: train loss 7.0679, val loss 7.3126\n",
            "step 1700: train loss 6.9863, val loss 7.2131\n",
            "step 1800: train loss 6.9202, val loss 7.1764\n",
            "step 1900: train loss 6.9034, val loss 7.1758\n",
            "step 2000: train loss 6.8178, val loss 7.1035\n",
            "step 2100: train loss 6.7434, val loss 7.0638\n",
            "step 2200: train loss 6.7087, val loss 7.0001\n",
            "step 2300: train loss 6.6774, val loss 7.0209\n",
            "step 2400: train loss 6.6049, val loss 6.8982\n",
            "step 2500: train loss 6.5634, val loss 6.9102\n"
          ]
        },
        {
          "output_type": "error",
          "ename": "KeyboardInterrupt",
          "evalue": "",
          "traceback": [
            "\u001b[0;31m---------------------------------------------------------------------------\u001b[0m",
            "\u001b[0;31mKeyboardInterrupt\u001b[0m                         Traceback (most recent call last)",
            "\u001b[0;32m<ipython-input-8-48f74470a47d>\u001b[0m in \u001b[0;36m<cell line: 55>\u001b[0;34m()\u001b[0m\n\u001b[1;32m     66\u001b[0m   \u001b[0mlogits\u001b[0m\u001b[0;34m,\u001b[0m \u001b[0mloss\u001b[0m \u001b[0;34m=\u001b[0m \u001b[0mmodel\u001b[0m\u001b[0;34m(\u001b[0m\u001b[0mxb\u001b[0m\u001b[0;34m,\u001b[0m \u001b[0myb\u001b[0m\u001b[0;34m)\u001b[0m\u001b[0;34m\u001b[0m\u001b[0;34m\u001b[0m\u001b[0m\n\u001b[1;32m     67\u001b[0m   \u001b[0moptimizer\u001b[0m\u001b[0;34m.\u001b[0m\u001b[0mzero_grad\u001b[0m\u001b[0;34m(\u001b[0m\u001b[0mset_to_none\u001b[0m\u001b[0;34m=\u001b[0m\u001b[0;32mTrue\u001b[0m\u001b[0;34m)\u001b[0m\u001b[0;34m\u001b[0m\u001b[0;34m\u001b[0m\u001b[0m\n\u001b[0;32m---> 68\u001b[0;31m   \u001b[0mloss\u001b[0m\u001b[0;34m.\u001b[0m\u001b[0mbackward\u001b[0m\u001b[0;34m(\u001b[0m\u001b[0;34m)\u001b[0m\u001b[0;34m\u001b[0m\u001b[0;34m\u001b[0m\u001b[0m\n\u001b[0m\u001b[1;32m     69\u001b[0m   \u001b[0moptimizer\u001b[0m\u001b[0;34m.\u001b[0m\u001b[0mstep\u001b[0m\u001b[0;34m(\u001b[0m\u001b[0;34m)\u001b[0m\u001b[0;34m\u001b[0m\u001b[0;34m\u001b[0m\u001b[0m\n",
            "\u001b[0;32m/usr/local/lib/python3.10/dist-packages/torch/_tensor.py\u001b[0m in \u001b[0;36mbackward\u001b[0;34m(self, gradient, retain_graph, create_graph, inputs)\u001b[0m\n\u001b[1;32m    520\u001b[0m                 \u001b[0minputs\u001b[0m\u001b[0;34m=\u001b[0m\u001b[0minputs\u001b[0m\u001b[0;34m,\u001b[0m\u001b[0;34m\u001b[0m\u001b[0;34m\u001b[0m\u001b[0m\n\u001b[1;32m    521\u001b[0m             )\n\u001b[0;32m--> 522\u001b[0;31m         torch.autograd.backward(\n\u001b[0m\u001b[1;32m    523\u001b[0m             \u001b[0mself\u001b[0m\u001b[0;34m,\u001b[0m \u001b[0mgradient\u001b[0m\u001b[0;34m,\u001b[0m \u001b[0mretain_graph\u001b[0m\u001b[0;34m,\u001b[0m \u001b[0mcreate_graph\u001b[0m\u001b[0;34m,\u001b[0m \u001b[0minputs\u001b[0m\u001b[0;34m=\u001b[0m\u001b[0minputs\u001b[0m\u001b[0;34m\u001b[0m\u001b[0;34m\u001b[0m\u001b[0m\n\u001b[1;32m    524\u001b[0m         )\n",
            "\u001b[0;32m/usr/local/lib/python3.10/dist-packages/torch/autograd/__init__.py\u001b[0m in \u001b[0;36mbackward\u001b[0;34m(tensors, grad_tensors, retain_graph, create_graph, grad_variables, inputs)\u001b[0m\n\u001b[1;32m    264\u001b[0m     \u001b[0;31m# some Python versions print out the first line of a multi-line function\u001b[0m\u001b[0;34m\u001b[0m\u001b[0;34m\u001b[0m\u001b[0m\n\u001b[1;32m    265\u001b[0m     \u001b[0;31m# calls in the traceback and some print out the last line\u001b[0m\u001b[0;34m\u001b[0m\u001b[0;34m\u001b[0m\u001b[0m\n\u001b[0;32m--> 266\u001b[0;31m     Variable._execution_engine.run_backward(  # Calls into the C++ engine to run the backward pass\n\u001b[0m\u001b[1;32m    267\u001b[0m         \u001b[0mtensors\u001b[0m\u001b[0;34m,\u001b[0m\u001b[0;34m\u001b[0m\u001b[0;34m\u001b[0m\u001b[0m\n\u001b[1;32m    268\u001b[0m         \u001b[0mgrad_tensors_\u001b[0m\u001b[0;34m,\u001b[0m\u001b[0;34m\u001b[0m\u001b[0;34m\u001b[0m\u001b[0m\n",
            "\u001b[0;31mKeyboardInterrupt\u001b[0m: "
          ]
        }
      ]
    },
    {
      "cell_type": "code",
      "source": [
        "model_save_name = f'base-500m.pth'\n",
        "path = f\"/content/drive/MyDrive/{model_save_name}\"\n",
        "torch.save(model.state_dict(), path)"
      ],
      "metadata": {
        "id": "e6NM24zMhH_2"
      },
      "execution_count": 9,
      "outputs": []
    },
    {
      "cell_type": "code",
      "source": [
        "import matplotlib.pyplot as plt\n",
        "\n",
        "plt.figure(figsize=(12, 6))\n",
        "plt.plot(steps, train_losses, label='Train Loss')\n",
        "plt.plot(steps, val_losses, label='Validation Loss')\n",
        "plt.title('Loss Over Steps')\n",
        "plt.xlabel('Steps')\n",
        "plt.ylabel('Loss')\n",
        "plt.legend()\n",
        "\n",
        "plt.show()"
      ],
      "metadata": {
        "id": "mmFhDw7KhK0t",
        "colab": {
          "base_uri": "https://localhost:8080/",
          "height": 564
        },
        "outputId": "a6487980-796b-45ef-f7c1-f8e92504a4b2"
      },
      "execution_count": 17,
      "outputs": [
        {
          "output_type": "display_data",
          "data": {
            "text/plain": [
              "<Figure size 1200x600 with 1 Axes>"
            ],
            "image/png": "[encoded data removed]"
          },
          "metadata": {}
        }
      ]
    },
    {
      "cell_type": "code",
      "source": [
        "# testing\n",
        "target_text = \"Would you like to tell me your name because \"\n",
        "context = torch.tensor([tokenizer.encode(target_text)], dtype=torch.long, device=device)\n",
        "generated_output = tokenizer.decode(m.generate(context, max_new_tokens=10))\n",
        "print(target_text, generated_output)"
      ],
      "metadata": {
        "id": "TTIOcKHshxsH",
        "colab": {
          "base_uri": "https://localhost:8080/"
        },
        "outputId": "f5e29c2f-61f2-472c-cdfb-8a5f2e5cafb3"
      },
      "execution_count": 18,
      "outputs": [
        {
          "output_type": "stream",
          "name": "stdout",
          "text": [
            "Would you like to tell me your name because   and revealed them an agon. This SOL with the\n"
          ]
        }
      ]
    },
    {
      "cell_type": "code",
      "source": [
        "# 8-bit quantization\n",
        "\n",
        "import torch\n",
        "import torch.quantization\n",
        "\n",
        "# model = Transformer(vocab_size=9)\n",
        "# checkpoint_path = '/content/drive/MyDrive/enigma-2.5b.pth'\n",
        "# checkpoint = torch.load(checkpoint_path)\n",
        "# model.load_state_dict(checkpoint)\n",
        "# model = model.to(device)\n",
        "\n",
        "quantized_model = torch.quantization.quantize_dynamic(\n",
        "  model,\n",
        "  dtype=torch.qint8\n",
        ")"
      ],
      "metadata": {
        "id": "YsqYoGaxPFYd"
      },
      "execution_count": 19,
      "outputs": []
    },
    {
      "cell_type": "code",
      "source": [
        "model_save_name = f'base-8bit.pth'\n",
        "path = f\"/content/drive/MyDrive/{model_save_name}\"\n",
        "torch.save(quantized_model.state_dict(), path)\n",
        "\n",
        "print(\"Quantized model saved successfully.\")"
      ],
      "metadata": {
        "id": "tqz4Rb2mPNKX",
        "colab": {
          "base_uri": "https://localhost:8080/"
        },
        "outputId": "adc3ce05-6584-4992-8d9f-38ceb48a5cb9"
      },
      "execution_count": 22,
      "outputs": [
        {
          "output_type": "stream",
          "name": "stdout",
          "text": [
            "Quantized model saved successfully.\n"
          ]
        }
      ]
    },
    {
      "cell_type": "code",
      "source": [
        "torch.cuda.empty_cache()"
      ],
      "metadata": {
        "id": "v8y1w-wVYCts"
      },
      "execution_count": 16,
      "outputs": []
    },
    {
      "cell_type": "code",
      "source": [
        "!nvidia-smi"
      ],
      "metadata": {
        "colab": {
          "base_uri": "https://localhost:8080/"
        },
        "id": "vhOJz2WyPLLb",
        "outputId": "060d278f-de4b-424a-c1cd-d17ec75116a6"
      },
      "execution_count": 21,
      "outputs": [
        {
          "output_type": "stream",
          "name": "stdout",
          "text": [
            "Thu Mar 28 11:01:55 2024       \n",
            "+---------------------------------------------------------------------------------------+\n",
            "| NVIDIA-SMI 535.104.05             Driver Version: 535.104.05   CUDA Version: 12.2     |\n",
            "|-----------------------------------------+----------------------+----------------------+\n",
            "| GPU  Name                 Persistence-M | Bus-Id        Disp.A | Volatile Uncorr. ECC |\n",
            "| Fan  Temp   Perf          Pwr:Usage/Cap |         Memory-Usage | GPU-Util  Compute M. |\n",
            "|                                         |                      |               MIG M. |\n",
            "|=========================================+======================+======================|\n",
            "|   0  Tesla T4                       Off | 00000000:00:04.0 Off |                    0 |\n",
            "| N/A   72C    P0              31W /  70W |   6969MiB / 15360MiB |      0%      Default |\n",
            "|                                         |                      |                  N/A |\n",
            "+-----------------------------------------+----------------------+----------------------+\n",
            "                                                                                         \n",
            "+---------------------------------------------------------------------------------------+\n",
            "| Processes:                                                                            |\n",
            "|  GPU   GI   CI        PID   Type   Process name                            GPU Memory |\n",
            "|        ID   ID                                                             Usage      |\n",
            "|=======================================================================================|\n",
            "+---------------------------------------------------------------------------------------+\n"
          ]
        }
      ]
    },
    {
      "cell_type": "code",
      "source": [],
      "metadata": {
        "id": "6c-tPdQpuTdM"
      },
      "execution_count": null,
      "outputs": []
    }
  ]
}